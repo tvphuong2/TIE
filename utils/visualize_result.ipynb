{
 "metadata": {
  "language_info": {
   "codemirror_mode": {
    "name": "ipython",
    "version": 3
   },
   "file_extension": ".py",
   "mimetype": "text/x-python",
   "name": "python",
   "nbconvert_exporter": "python",
   "pygments_lexer": "ipython3",
   "version": "3.6.13-final"
  },
  "orig_nbformat": 2,
  "kernelspec": {
   "name": "python3",
   "display_name": "Python 3.6.13 64-bit ('TIE': conda)",
   "metadata": {
    "interpreter": {
     "hash": "19475353d56625c27be7c5aa81541b44e7c03a65da99ded15c897f50a3e598c1"
    }
   }
  }
 },
 "nbformat": 4,
 "nbformat_minor": 2,
 "cells": [
  {
   "cell_type": "code",
   "execution_count": 5,
   "metadata": {},
   "outputs": [
    {
     "output_type": "stream",
     "name": "stdout",
     "text": [
      "hits_10\n{0: 0.6637551784515381}\nhits_3\n{0: 0.5034086108207703}\nhits_1\n{0: 0.33347535133361816}\nmrr\n{0: 0.44515982270240784}\n"
     ]
    }
   ],
   "source": [
    "import pickle\n",
    "filename = \"/home/thao/Desktop/graduation thesis/Code/Time-Aware-Incremental-Embedding/experiments/base-model/DE-icews14-complex/metrics-per-snapshot.pt\"\n",
    "\n",
    "base_models = ['DE-icews14-complex', 'DE-icews14-transE', 'DE-wiki-complex', 'DE-wiki-transE']\n",
    "metrics = ['hits_10', 'hits_3', 'hits_1', 'mrr']\n",
    "with open(filename, 'rb') as fp:\n",
    "    res = pickle.load(fp)\n",
    "    # print(res)\n",
    "\n",
    "for i in metrics:\n",
    "  print(i)\n",
    "  print(res[i])"
   ]
  },
  {
   "cell_type": "code",
   "execution_count": null,
   "metadata": {},
   "outputs": [],
   "source": []
  }
 ]
}